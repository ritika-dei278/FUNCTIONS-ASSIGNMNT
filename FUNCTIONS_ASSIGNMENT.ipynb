{
  "nbformat": 4,
  "nbformat_minor": 0,
  "metadata": {
    "colab": {
      "provenance": []
    },
    "kernelspec": {
      "name": "python3",
      "display_name": "Python 3"
    },
    "language_info": {
      "name": "python"
    }
  },
  "cells": [
    {
      "cell_type": "markdown",
      "source": [
        "#THEORY"
      ],
      "metadata": {
        "id": "4BZIvYN1EdCL"
      }
    },
    {
      "cell_type": "markdown",
      "source": [
        "1. What is the difference between a function and a method in Python?\n",
        "\n",
        "\n",
        "- A function is an independent block of reusable code that can be called using its name.\n",
        "- A method is a function that is associated with an object and is called using dot notation (object.method()).\n",
        "\n",
        "\n",
        "Example:"
      ],
      "metadata": {
        "id": "PZ-72R7FAYT-"
      }
    },
    {
      "cell_type": "code",
      "source": [
        "def greet():  # Function\n",
        "    return \"Hello!\"\n",
        "\n",
        "class Person:\n",
        "    def say_hello(self):  # Method (belongs to the class)\n",
        "        return \"Hello!\""
      ],
      "metadata": {
        "id": "_xDLMy5QArJh"
      },
      "execution_count": null,
      "outputs": []
    },
    {
      "cell_type": "markdown",
      "source": [
        "2. Explain the concept of function arguments and parameters in Python.\n",
        "- Parameters are variables listed in the function definition.\n",
        "- Arguments are the actual values passed when calling the function.\n",
        "Example:"
      ],
      "metadata": {
        "id": "DryeOT6LAzAd"
      }
    },
    {
      "cell_type": "code",
      "source": [
        "def add(a, b):  # 'a' and 'b' are parameters\n",
        "    return a + b\n",
        "\n",
        "result = add(3, 5)  # '3' and '5' are arguments\n"
      ],
      "metadata": {
        "id": "QoKIwtYLA9fM"
      },
      "execution_count": null,
      "outputs": []
    },
    {
      "cell_type": "markdown",
      "source": [
        "3. What are the different ways to define and call a function in Python?\n",
        "- Defining a function: Using the def keyword.\n",
        "\n",
        "def greet(name):\n",
        "\n",
        "    return f\"Hello, {name}!\"\n",
        "\n",
        "Calling a function:\n",
        "\n",
        "greet(\"Alice\")\n",
        "\n",
        "Lambda function (anonymous function):\n",
        "\n",
        "square = lambda x: x * x\n",
        "\n"
      ],
      "metadata": {
        "id": "QdEcAWrUBEBA"
      }
    },
    {
      "cell_type": "markdown",
      "source": [
        "4. What is the purpose of the return statement in a Python function?\n",
        "- The return statement exits the function and returns a value.\n",
        "\n",
        "Example"
      ],
      "metadata": {
        "id": "aetgxutBBlV5"
      }
    },
    {
      "cell_type": "code",
      "source": [
        "def multiply(x, y):\n",
        "    return x * y\n",
        "\n",
        "result = multiply(3, 4)  # Returns 12\n",
        "result"
      ],
      "metadata": {
        "colab": {
          "base_uri": "https://localhost:8080/"
        },
        "id": "8hW2GVRZBuAA",
        "outputId": "0db13310-01e9-481d-a180-f459eb311dc6"
      },
      "execution_count": null,
      "outputs": [
        {
          "output_type": "execute_result",
          "data": {
            "text/plain": [
              "12"
            ]
          },
          "metadata": {},
          "execution_count": 5
        }
      ]
    },
    {
      "cell_type": "markdown",
      "source": [
        "5. What are iterators in Python and how do they differ from iterables?\n",
        "\n",
        "- Iterable: An object that can be iterated over (e.g., lists, tuples, dictionaries).\n",
        "\n",
        "- Iterator: An object that implements the __iter__() and __next__() methods.\n",
        "\n",
        "Example"
      ],
      "metadata": {
        "id": "cRu_ibFPB70J"
      }
    },
    {
      "cell_type": "code",
      "source": [
        "my_list = [1, 2, 3]\n",
        "iterator = iter(my_list)  # Convert iterable to iterator\n",
        "print(next(iterator))  # 1\n",
        "print(next(iterator))  # 2\n"
      ],
      "metadata": {
        "colab": {
          "base_uri": "https://localhost:8080/"
        },
        "id": "8frcAdF7CKrN",
        "outputId": "7bff10e0-c9d8-40d7-9c4e-66793e1e5773"
      },
      "execution_count": null,
      "outputs": [
        {
          "output_type": "stream",
          "name": "stdout",
          "text": [
            "1\n",
            "2\n"
          ]
        }
      ]
    },
    {
      "cell_type": "markdown",
      "source": [
        "6. Explain the concept of generators in Python and how they are defined.\n",
        "\n",
        "- Generators are iterators that generate values lazily (one at a time) using the yield keyword.\n",
        "\n",
        "Exmple:\n"
      ],
      "metadata": {
        "id": "YvP0DSgbCRh7"
      }
    },
    {
      "cell_type": "code",
      "source": [
        "def countdown(n):\n",
        "    while n > 0:\n",
        "        yield n\n",
        "        n -= 1\n",
        "\n",
        "gen = countdown(3)\n",
        "print(next(gen))  # 3\n",
        "print(next(gen))  # 2\n",
        "#Unlike lists, generators don’t store all values in memory.\n"
      ],
      "metadata": {
        "colab": {
          "base_uri": "https://localhost:8080/"
        },
        "id": "Z4B4xNEGCbR-",
        "outputId": "ad117126-b4f6-45e3-a5cb-07e4622a9d95"
      },
      "execution_count": null,
      "outputs": [
        {
          "output_type": "stream",
          "name": "stdout",
          "text": [
            "3\n",
            "2\n"
          ]
        }
      ]
    },
    {
      "cell_type": "markdown",
      "source": [
        "7. What are the advantages of using generators over regular functions?\n",
        "- Memory Efficient: Generates values on the fly (doesn’t store them in memory).\n",
        "\n",
        "- Faster Execution: No need to compute all values at once.\n",
        "\n",
        "- Lazy Evaluation: Computes the next value only when needed.\n",
        "\n",
        "- Useful for Large Datasets: Ideal for handling large data streams.\n"
      ],
      "metadata": {
        "id": "_W3kGGYWCu25"
      }
    },
    {
      "cell_type": "markdown",
      "source": [
        "8. What is a lambda function in Python and when is it typically used?\n",
        "\n",
        "- A lambda function is a small, anonymous function defined using the lambda keyword.\n",
        "-\n",
        "It is typically used when you need a short, throwaway function.\n",
        "\n",
        "Example:"
      ],
      "metadata": {
        "id": "nfFdVSQBDBRm"
      }
    },
    {
      "cell_type": "code",
      "source": [
        "add = lambda x, y: x + y\n",
        "print(add(3, 5))  # 8\n",
        "\n",
        "#Use cases: Sorting, filtering, mapping, reducing.\n"
      ],
      "metadata": {
        "colab": {
          "base_uri": "https://localhost:8080/"
        },
        "id": "gVuZbE7SDG6o",
        "outputId": "abd191b4-980c-4438-b9cd-0659a3e86c3d"
      },
      "execution_count": null,
      "outputs": [
        {
          "output_type": "stream",
          "name": "stdout",
          "text": [
            "8\n"
          ]
        }
      ]
    },
    {
      "cell_type": "markdown",
      "source": [
        "9. Explain the purpose and usage of the map() function in Python.\n",
        "\n",
        "- The map() function applies a function to all elements in an iterable.\n",
        "\n",
        "Syntax:\n",
        "map(function, iterable)\n",
        "\n",
        "Eg:\n",
        "\n"
      ],
      "metadata": {
        "id": "NCgww6KKDaE5"
      }
    },
    {
      "cell_type": "code",
      "source": [
        "numbers = [1, 2, 3, 4]\n",
        "squared = list(map(lambda x: x * x, numbers))\n",
        "print(squared)\n"
      ],
      "metadata": {
        "colab": {
          "base_uri": "https://localhost:8080/"
        },
        "id": "ZGDtoe-SDpCc",
        "outputId": "41dfc9e9-a966-4d2d-b076-03cfbcffb636"
      },
      "execution_count": null,
      "outputs": [
        {
          "output_type": "stream",
          "name": "stdout",
          "text": [
            "[1, 4, 9, 16]\n"
          ]
        }
      ]
    },
    {
      "cell_type": "markdown",
      "source": [
        "10. What is the difference between map(), reduce(), and filter() functions in Python?\n",
        "- map() >\tTransforms all elements using a function. E.G., > \tmap(lambda x: x*2, [1, 2, 3]) → [2, 4, 6]\n",
        "\n",
        "- filter()\t> Filters elements based on a condition. E.G. > \tfilter(lambda x: x > 2, [1, 2, 3]) → [3]\n",
        "\n",
        "- reduce()\tReduces all elements to a single value. E.G. > \treduce(lambda x, y: x + y, [1, 2, 3]) → 6\n"
      ],
      "metadata": {
        "id": "r37ISlXND02P"
      }
    },
    {
      "cell_type": "markdown",
      "source": [
        "#PRACTICAL QUESTIONS."
      ],
      "metadata": {
        "id": "ftVjIVNPdCXd"
      }
    },
    {
      "cell_type": "markdown",
      "source": [
        "#Q1"
      ],
      "metadata": {
        "id": "fvEr2Hb_A7-I"
      }
    },
    {
      "cell_type": "code",
      "execution_count": null,
      "metadata": {
        "colab": {
          "base_uri": "https://localhost:8080/"
        },
        "id": "PiME1JwRc5Pb",
        "outputId": "69b360c0-3d5c-4439-b63d-0ecf2daa29c8"
      },
      "outputs": [
        {
          "output_type": "execute_result",
          "data": {
            "text/plain": [
              "6"
            ]
          },
          "metadata": {},
          "execution_count": 26
        }
      ],
      "source": [
        "#Q1 > Write a Python function that takes a list of numbers as input and returns the sum of all even numbers in\n",
        "#the list.\n",
        "def sum_of_list(n):\n",
        "  if type(n) == list:\n",
        "    s =0\n",
        "    for i in n:\n",
        "        if i%2 == 0:\n",
        "           s = s+i\n",
        "    return s\n",
        "  else:\n",
        "    print(\"Please enter a list.\")\n",
        "sum_of_list([1,2,3,4])\n",
        "#2+4 =6 will be output."
      ]
    },
    {
      "cell_type": "code",
      "source": [
        "sum_of_list((1,2,3,4))"
      ],
      "metadata": {
        "colab": {
          "base_uri": "https://localhost:8080/"
        },
        "id": "dElI7HUXfXqr",
        "outputId": "af3c474a-2294-4566-dc2a-1e69806dcd04"
      },
      "execution_count": null,
      "outputs": [
        {
          "output_type": "stream",
          "name": "stdout",
          "text": [
            "Please enter a list.\n"
          ]
        }
      ]
    },
    {
      "cell_type": "markdown",
      "source": [
        "#Q2"
      ],
      "metadata": {
        "id": "TarFoyfwBBTf"
      }
    },
    {
      "cell_type": "code",
      "source": [
        "#Q2. Create a Python function that accepts a string and returns the reverse of that string.\n",
        "def reverse_str(s):\n",
        "  return s[::-1]\n",
        "\n",
        "reverse_str(\"pwskills\")"
      ],
      "metadata": {
        "colab": {
          "base_uri": "https://localhost:8080/",
          "height": 36
        },
        "id": "4OgmqYPDdBDI",
        "outputId": "a809ed6d-44a9-40b4-90cc-c3dc124ef5f2"
      },
      "execution_count": 3,
      "outputs": [
        {
          "output_type": "execute_result",
          "data": {
            "text/plain": [
              "'sllikswp'"
            ],
            "application/vnd.google.colaboratory.intrinsic+json": {
              "type": "string"
            }
          },
          "metadata": {},
          "execution_count": 3
        }
      ]
    },
    {
      "cell_type": "markdown",
      "source": [
        "#Q3"
      ],
      "metadata": {
        "id": "TNjciXnzBDgO"
      }
    },
    {
      "cell_type": "code",
      "source": [
        "#Q3 >Implement a Python function that takes a list of integers and returns a new list containing the squares of\n",
        "#each number.\n",
        "def sq_num(n):\n",
        "  new_list =[]\n",
        "  for i in n:\n",
        "    new_list.append(i**2)\n",
        "  return new_list\n",
        "\n",
        "sq_num([1,2,3,4])"
      ],
      "metadata": {
        "colab": {
          "base_uri": "https://localhost:8080/"
        },
        "id": "cdOR01-DdBAa",
        "outputId": "0c6e4dd4-111b-44ab-b8ef-6e325c1ea6ea"
      },
      "execution_count": null,
      "outputs": [
        {
          "output_type": "execute_result",
          "data": {
            "text/plain": [
              "[1, 4, 9, 16]"
            ]
          },
          "metadata": {},
          "execution_count": 34
        }
      ]
    },
    {
      "cell_type": "markdown",
      "source": [
        "#Q4"
      ],
      "metadata": {
        "id": "_mBrwE4YBFRJ"
      }
    },
    {
      "cell_type": "code",
      "source": [
        "#Q4 > Write a Python function that checks if a given number is prime or not from 1 to 200.\n",
        "l = [1,2,3,4,5,6,7,11]\n",
        "def prime_nun(n):\n",
        "  for i in n:\n",
        "    factors = []\n",
        "    for j in range(1,i+1):\n",
        "      if i%j == 0:\n",
        "        factors.append(j)\n",
        "    if len(factors) == 2:\n",
        "      print(i)\n",
        "prime_nun(l)\n",
        "\n"
      ],
      "metadata": {
        "colab": {
          "base_uri": "https://localhost:8080/"
        },
        "id": "8zLOHcmEdA9v",
        "outputId": "438ec15e-8a37-4ab1-931f-9ffd74517d67"
      },
      "execution_count": null,
      "outputs": [
        {
          "output_type": "stream",
          "name": "stdout",
          "text": [
            "2\n",
            "3\n",
            "5\n",
            "7\n",
            "11\n"
          ]
        }
      ]
    },
    {
      "cell_type": "markdown",
      "source": [
        "#Q5"
      ],
      "metadata": {
        "id": "R-OpJT6CBG-h"
      }
    },
    {
      "cell_type": "code",
      "source": [
        "# Q5 > Create an iterator class in Python that generates the Fibonacci sequence up to a specified number of\n",
        "#terms.\n",
        "\n",
        "\n",
        "#don,t know"
      ],
      "metadata": {
        "id": "LlCeZtXgdA6x"
      },
      "execution_count": null,
      "outputs": []
    },
    {
      "cell_type": "markdown",
      "source": [
        "#Q6"
      ],
      "metadata": {
        "id": "0Sj1HcdPBJIu"
      }
    },
    {
      "cell_type": "code",
      "source": [
        "# 6. Write a generator function in Python that yields the powers of 2 up to a given exponent.\n",
        "def powers_of_two(exp):\n",
        "    for i in range(exp + 1):\n",
        "        yield 2 ** i\n",
        "\n",
        "print(list(powers_of_two(5)))\n"
      ],
      "metadata": {
        "colab": {
          "base_uri": "https://localhost:8080/"
        },
        "id": "n-r1ERJ7-dNl",
        "outputId": "e5b94a30-99ea-4e94-cbd0-6978d4f8e18d"
      },
      "execution_count": 4,
      "outputs": [
        {
          "output_type": "stream",
          "name": "stdout",
          "text": [
            "[1, 2, 4, 8, 16, 32]\n"
          ]
        }
      ]
    },
    {
      "cell_type": "markdown",
      "source": [
        "#Q7"
      ],
      "metadata": {
        "id": "7PEKSSwZBND2"
      }
    },
    {
      "cell_type": "code",
      "source": [
        "# 7. Implement a generator function that reads a file line by line and yields each line as a string\n",
        "\n",
        "#don,t know"
      ],
      "metadata": {
        "id": "LFMrWsYu-5KR"
      },
      "execution_count": null,
      "outputs": []
    },
    {
      "cell_type": "markdown",
      "source": [
        "#Q8"
      ],
      "metadata": {
        "id": "XCxCuZt2BOb0"
      }
    },
    {
      "cell_type": "code",
      "source": [
        "# 8. Use a lambda function in Python to sort a list of tuples based on the second element of each tuple.\n",
        "tuples_list = [(1, 3), (4, 1), (2, 2), (3, 5)]\n",
        "sorted_tuples = sorted(tuples_list, key=lambda x: x[1])\n",
        "\n",
        "print(sorted_tuples)\n"
      ],
      "metadata": {
        "colab": {
          "base_uri": "https://localhost:8080/"
        },
        "id": "s1rnmX-K-yPv",
        "outputId": "3587361a-024c-4507-9cb1-56cb32d69478"
      },
      "execution_count": 5,
      "outputs": [
        {
          "output_type": "stream",
          "name": "stdout",
          "text": [
            "[(4, 1), (2, 2), (1, 3), (3, 5)]\n"
          ]
        }
      ]
    },
    {
      "cell_type": "markdown",
      "source": [
        "#Q9"
      ],
      "metadata": {
        "id": "yLEuOlsaBP2E"
      }
    },
    {
      "cell_type": "code",
      "source": [
        "# 9. Write a Python program that uses map() to convert a list of temperatures from Celsius to Fahrenheit.\n",
        "celsius_temps = [0, 20, 37, 100]\n",
        "fahrenheit_temps = list(map(lambda c: (c * 9/5) + 32, celsius_temps))\n",
        "\n",
        "print(fahrenheit_temps)\n"
      ],
      "metadata": {
        "colab": {
          "base_uri": "https://localhost:8080/"
        },
        "id": "g9HbjRiL_BgR",
        "outputId": "e169c161-fc51-494a-92f2-275f6beb95a9"
      },
      "execution_count": 6,
      "outputs": [
        {
          "output_type": "stream",
          "name": "stdout",
          "text": [
            "[32.0, 68.0, 98.6, 212.0]\n"
          ]
        }
      ]
    },
    {
      "cell_type": "markdown",
      "source": [
        "#Q10"
      ],
      "metadata": {
        "id": "TwOUpr-FBR5U"
      }
    },
    {
      "cell_type": "code",
      "source": [
        "# 10. Create a Python program that uses filter() to remove all the vowels from a given string\n",
        "def remove_vowels(string):\n",
        "    vowels = \"aeiouAEIOU\"\n",
        "    return \"\".join(filter(lambda ch: ch not in vowels, string))\n",
        "\n",
        "text = \"Hello World\"\n",
        "print(remove_vowels(text))\n"
      ],
      "metadata": {
        "colab": {
          "base_uri": "https://localhost:8080/"
        },
        "id": "TCqhHDqO_Ez1",
        "outputId": "928da28f-93f8-4102-a476-e872b8f64c39"
      },
      "execution_count": 7,
      "outputs": [
        {
          "output_type": "stream",
          "name": "stdout",
          "text": [
            "Hll Wrld\n"
          ]
        }
      ]
    },
    {
      "cell_type": "markdown",
      "source": [
        "#Q11"
      ],
      "metadata": {
        "id": "iHPWESWHBTjZ"
      }
    },
    {
      "cell_type": "code",
      "source": [
        "# Q11.\n",
        "orders = [(34587, \"Learning Python, Mark Lutz\", 4, 40.95),\n",
        "    (98762, \"Programming Python, Mark Lutz\", 5, 56.80),\n",
        "    (77226, \"Head First Python, Paul Barry\", 3, 32.95),\n",
        "    (88112, \"Einführung in Python3, Bernd Klein\", 3, 24.99)]\n",
        "\n",
        "# Using lambda and map\n",
        "order_totals = list(map(lambda order: (order[0], order[2] * order[3] + (10 if order[2] * order[3] < 100 else 0)), orders))\n",
        "\n",
        "print(order_totals)\n"
      ],
      "metadata": {
        "id": "imKYXROBdA3s",
        "colab": {
          "base_uri": "https://localhost:8080/"
        },
        "outputId": "f5119e9f-f8f4-462a-ec22-fb8e04af267a"
      },
      "execution_count": null,
      "outputs": [
        {
          "output_type": "stream",
          "name": "stdout",
          "text": [
            "[(34587, 163.8), (98762, 284.0), (77226, 108.85000000000001), (88112, 84.97)]\n"
          ]
        }
      ]
    },
    {
      "cell_type": "code",
      "source": [],
      "metadata": {
        "id": "RSamOUxwdA0k"
      },
      "execution_count": null,
      "outputs": []
    },
    {
      "cell_type": "code",
      "source": [],
      "metadata": {
        "id": "IHf-vPZydAxw"
      },
      "execution_count": null,
      "outputs": []
    },
    {
      "cell_type": "code",
      "source": [],
      "metadata": {
        "id": "60BD0VNKdAt9"
      },
      "execution_count": null,
      "outputs": []
    },
    {
      "cell_type": "code",
      "source": [],
      "metadata": {
        "id": "7FiPqgO8dApt"
      },
      "execution_count": null,
      "outputs": []
    },
    {
      "cell_type": "code",
      "source": [],
      "metadata": {
        "id": "bp3sBe7MdAmu"
      },
      "execution_count": null,
      "outputs": []
    },
    {
      "cell_type": "code",
      "source": [],
      "metadata": {
        "id": "KC19VMAPdAjL"
      },
      "execution_count": null,
      "outputs": []
    }
  ]
}